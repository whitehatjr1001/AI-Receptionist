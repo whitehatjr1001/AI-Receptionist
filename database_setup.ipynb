{
 "cells": [
  {
   "cell_type": "code",
   "execution_count": 4,
   "metadata": {},
   "outputs": [],
   "source": [
    "import pinecone\n",
    "import os\n",
    "\n",
    "# Initialize Pinecone\n",
    "PINECONE_API_KEY = os.getenv('PINECONE_API_KEY')\n",
    "\n",
    "# Create a Pinecone client instance\n",
    "pc = pinecone.Pinecone(api_key=PINECONE_API_KEY)"
   ]
  },
  {
   "cell_type": "code",
   "execution_count": 5,
   "metadata": {},
   "outputs": [],
   "source": [
    "index_name = \"emergency-index\"\n",
    "pc.create_index(\n",
    "    name=index_name,\n",
    "    dimension=1024,  # Dimension for the multilingual-e5-large model\n",
    "    metric=\"cosine\",\n",
    "    spec=pinecone.ServerlessSpec(\n",
    "        cloud=\"aws\",\n",
    "        region=\"us-east-1\"  # Choose the region according to your requirements\n",
    "    )\n",
    ")"
   ]
  },
  {
   "cell_type": "code",
   "execution_count": 6,
   "metadata": {},
   "outputs": [],
   "source": [
    "import json\n",
    "with open('emergencies.json') as json_file:\n",
    "    data = json.load(json_file)\n"
   ]
  },
  {
   "cell_type": "code",
   "execution_count": 16,
   "metadata": {},
   "outputs": [
    {
     "data": {
      "text/plain": [
       "{'upserted_count': 52}"
      ]
     },
     "execution_count": 16,
     "metadata": {},
     "output_type": "execute_result"
    }
   ],
   "source": [
    "# Prepare the data for upsert\n",
    "upsert_data = []\n",
    "for emergency in data['emergencies']:\n",
    "    emergency_text = emergency['emergency']\n",
    "    next_step = emergency['next_step']\n",
    "    \n",
    "    # Embed using Pinecone's built-in embedding with the required input_type parameter\n",
    "    embedding_response = pc.inference.embed(\n",
    "        model=\"multilingual-e5-large\",\n",
    "        inputs=[emergency_text],\n",
    "        parameters={\"input_type\": \"passage\"}  # Specify the input type\n",
    "    )\n",
    "    \n",
    "    # Access the embedding directly from the response\n",
    "    vector = embedding_response[0]['values']  # Get the first embedding's values\n",
    "\n",
    "    # Append the data in the required format for upsert\n",
    "    upsert_data.append({\n",
    "        \"id\": emergency_text,  # Using the emergency text as the ID\n",
    "        \"values\": vector,  # Use the embedding values directly\n",
    "        \"metadata\": {\"next_step\": next_step}  # Metadata for the embedding\n",
    "    })\n",
    "\n",
    "# Upsert data into Pinecone\n",
    "index = pc.Index(index_name)\n",
    "index.upsert(vectors=upsert_data)\n",
    "\n",
    "\n"
   ]
  },
  {
   "cell_type": "code",
   "execution_count": 26,
   "metadata": {},
   "outputs": [
    {
     "name": "stdout",
     "output_type": "stream",
     "text": [
      "Next step: Help the patient sit or lie down in a comfortable position. Offer small sips of clear fluids, like water or ginger ale. Seek medical help if nausea persists or worsens.\n"
     ]
    }
   ],
   "source": [
    "def query_emergency(emergency_query):\n",
    "    # Embed the query text using Pinecone's built-in embedding with the required input_type parameter\n",
    "    query_vector = pc.inference.embed(\n",
    "        model=\"multilingual-e5-large\",\n",
    "        inputs=[emergency_query],\n",
    "        parameters={\"input_type\": \"passage\"}  # Specify the input type\n",
    "    )[0]['values']  # Get the embedding\n",
    "\n",
    "    # Query the Pinecone index\n",
    "    result = index.query(\n",
    "        vector=query_vector,\n",
    "        top_k=5,\n",
    "        include_metadata=True\n",
    "    )\n",
    "    return result\n",
    "\n",
    "# Example of querying the database\n",
    "emergency_query = \"Not getting\"\n",
    "response = query_emergency(emergency_query)\n",
    "\n",
    "# Print the next step\n",
    "if response['matches']:\n",
    "    next_step = response['matches'][0]['metadata']['next_step']\n",
    "    print(f\"Next step: {next_step}\")\n",
    "else:\n",
    "    print(\"No matching emergency found.\")\n"
   ]
  }
 ],
 "metadata": {
  "kernelspec": {
   "display_name": "myenv",
   "language": "python",
   "name": "python3"
  },
  "language_info": {
   "codemirror_mode": {
    "name": "ipython",
    "version": 3
   },
   "file_extension": ".py",
   "mimetype": "text/x-python",
   "name": "python",
   "nbconvert_exporter": "python",
   "pygments_lexer": "ipython3",
   "version": "3.11.4"
  }
 },
 "nbformat": 4,
 "nbformat_minor": 2
}
