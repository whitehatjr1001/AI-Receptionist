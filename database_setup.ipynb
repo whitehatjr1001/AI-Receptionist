{
 "cells": [
  {
   "cell_type": "code",
   "execution_count": 4,
   "metadata": {},
   "outputs": [],
   "source": [
    "import pinecone\n",
    "\n",
    "# Initialize Pinecone\n",
    "PINECONE_API_KEY = '923773a3-bc74-4a9b-85a4-c5dff73509de'\n",
    "PINECONE_API_ENV = 'us-east-1'\n",
    "\n",
    "# Create a Pinecone client instance\n",
    "pc = pinecone.Pinecone(api_key=PINECONE_API_KEY, environment=PINECONE_API_ENV)"
   ]
  },
  {
   "cell_type": "code",
   "execution_count": 5,
   "metadata": {},
   "outputs": [],
   "source": [
    "index_name = \"emergency-index\"\n",
    "pc.create_index(\n",
    "    name=index_name,\n",
    "    dimension=1024,  # Dimension for the multilingual-e5-large model\n",
    "    metric=\"cosine\",\n",
    "    spec=pinecone.ServerlessSpec(\n",
    "        cloud=\"aws\",\n",
    "        region=\"us-east-1\"  # Choose the region according to your requirements\n",
    "    )\n",
    ")"
   ]
  },
  {
   "cell_type": "code",
   "execution_count": 6,
   "metadata": {},
   "outputs": [],
   "source": [
    "import json\n",
    "with open('emergencies.json') as json_file:\n",
    "    data = json.load(json_file)\n"
   ]
  },
  {
   "cell_type": "code",
   "execution_count": 9,
   "metadata": {},
   "outputs": [
    {
     "name": "stdout",
     "output_type": "stream",
     "text": [
      "Patient is not breathing\n",
      "Start CPR immediately. Position your hands on the center of the patient's chest and push hard and fast at a rate of 100-120 compressions per minute. Ensure the airway is clear and give rescue breaths every 30 compressions.\n",
      "Severe bleeding\n",
      "Apply direct pressure to the wound using a clean cloth or bandage. Elevate the injured area above the heart if possible. Do not remove the cloth even if it becomes soaked with blood; instead, add more layers.\n",
      "Chest pain\n",
      "Have the patient sit down and remain calm. Loosen any tight clothing. If the patient has prescribed nitroglycerin, help them take it. Monitor the patientâ€™s condition and be prepared to start CPR if necessary.\n",
      "Burns\n",
      "Cool the burn with running water for at least 10 minutes. Do not apply ice, creams, or oily substances. Cover the burn with a sterile, non-stick bandage or clean cloth. Avoid bursting any blisters.\n",
      "Fracture\n",
      "Keep the injured limb in the position you found it and immobilize it with a splint or by securing it to an uninjured body part. Do not try to realign the bone. Apply a cold pack to reduce swelling and pain.\n",
      "Choking\n",
      "If the person cannot cough, speak, or breathe, perform the Heimlich maneuver. Stand behind the person, place your arms around their waist, and press inward and upward with quick thrusts until the object is expelled.\n",
      "Stroke symptoms\n",
      "Check the patient's face, arms, and speech for signs of a stroke. Have them smile, raise both arms, and speak a simple sentence. If they show weakness on one side or slurred speech, keep them calm and monitor their condition.\n",
      "Seizure\n",
      "Do not restrain the person. Clear the area of any sharp or dangerous objects. Place something soft under their head. Once the seizure ends, turn the person onto their side in a recovery position. Monitor their breathing.\n",
      "Poisoning\n",
      "Try to identify the substance and quantity ingested. Do not induce vomiting unless instructed by a professional. If the person is unconscious but breathing, place them in the recovery position and monitor closely.\n",
      "Allergic reaction\n",
      "Administer an epinephrine auto-injector (EpiPen) if available. Have the person lie down and raise their legs to prevent shock. Monitor their condition and be prepared to start CPR if breathing stops.\n",
      "Head injury\n",
      "Keep the patient still and avoid moving their head or neck. If the patient is unconscious, check their breathing and pulse. Apply a cold pack to reduce swelling. Monitor their condition closely.\n",
      "Asthma attack\n",
      "Help the patient sit upright and encourage them to take slow, deep breaths. Administer a fast-acting inhaler if they have one. If the symptoms do not improve, seek emergency medical help immediately.\n",
      "Heatstroke\n",
      "Move the patient to a cooler place and remove excess clothing. Apply cool water to the skin and fan them to lower body temperature. Offer sips of water if the person is conscious and able to drink.\n",
      "Hypothermia\n",
      "Move the patient to a warm area and remove any wet clothing. Wrap them in warm blankets and offer warm (non-alcoholic) drinks if they are conscious. Do not apply direct heat, such as hot water or heating pads.\n",
      "Heart attack\n",
      "Have the patient sit down, stay calm, and loosen any tight clothing. If available, administer aspirin. Monitor their condition and be prepared to start CPR if necessary.\n",
      "Electric shock\n",
      "Turn off the source of electricity if possible. Do not touch the patient if they are still in contact with the electrical source. Once safe, check for breathing and pulse, and begin CPR if needed.\n",
      "Drowning\n",
      "Get the patient out of the water and check for breathing. Begin CPR if the patient is not breathing. Place the patient in the recovery position once they begin to breathe on their own.\n",
      "Eye injury\n",
      "Do not rub or apply pressure to the eye. Rinse the eye with clean water if a chemical substance is involved. Cover the injured eye with a sterile bandage or clean cloth and seek immediate medical help.\n",
      "Animal bite\n",
      "Clean the wound with soap and water to reduce infection risk. Apply a clean bandage to the wound. If the bite is severe or the animal may be rabid, seek medical attention immediately.\n",
      "Snake bite\n",
      "Keep the patient calm and still to slow the spread of venom. Position the bitten area at or below the level of the heart. Apply a loose bandage above the bite to slow the venom's spread. Do not apply ice or attempt to suck out the venom.\n",
      "Broken tooth\n",
      "Rinse the mouth with warm water. Apply a cold compress to reduce swelling. Save any broken tooth fragments in milk or saline and seek dental care immediately.\n",
      "High fever\n",
      "Keep the patient hydrated and cool by removing excess clothing and applying a cool cloth to the forehead. Administer fever-reducing medication as directed. Seek medical help if the fever is very high or persistent.\n",
      "Panic attack\n",
      "Encourage the patient to breathe slowly and deeply, counting to four as they inhale and exhale. Reassure them that they are safe and that the symptoms will pass. Avoid sudden movements or loud noises.\n",
      "Vomiting and diarrhea\n",
      "Keep the patient hydrated by offering small sips of water or oral rehydration solution. Avoid giving solid food until symptoms improve. Monitor for signs of dehydration and seek medical help if necessary.\n",
      "Nosebleed\n",
      "Have the patient sit down and lean slightly forward. Pinch the soft part of the nose for 10-15 minutes and apply a cold compress to the bridge of the nose. If bleeding persists, seek medical attention.\n",
      "Sunburn\n",
      "Cool the affected area with lukewarm water and apply aloe vera gel or a moisturizing lotion. Avoid further sun exposure until the skin heals. If blisters develop or the burn is severe, seek medical help.\n",
      "Hypoglycemia\n",
      "Give the patient a quick source of sugar, such as juice or glucose tablets. If the patient is conscious, follow with a snack containing complex carbohydrates. If unconscious, seek emergency medical help immediately.\n",
      "Hyperglycemia\n",
      "If the patient has insulin, help them administer it as prescribed. Keep the patient hydrated with water. Monitor their condition and seek medical help if symptoms worsen.\n",
      "Overdose\n",
      "Try to identify the substance and quantity taken. Do not induce vomiting unless directed by a professional. If the patient is unconscious but breathing, place them in the recovery position and monitor closely.\n",
      "Fainting\n",
      "Have the patient lie down and elevate their legs to improve blood flow. Loosen any tight clothing and ensure they have fresh air. If the patient does not regain consciousness within a minute, seek medical help.\n",
      "Blister\n",
      "Clean the area with soap and water. Cover the blister with a sterile bandage or gauze. Avoid popping the blister, as this increases the risk of infection. If the blister bursts, clean and cover it with a clean dressing.\n",
      "Sprain\n",
      "Apply ice to the injured area to reduce swelling and pain. Elevate the limb and avoid putting weight on it. Use a compression bandage to support the joint. Seek medical help if the pain or swelling is severe.\n",
      "Torn muscle\n",
      "Rest the injured muscle and avoid activities that cause pain. Apply ice to reduce swelling and pain. Use an elastic bandage to compress the area. Elevate the injured limb above the level of the heart.\n",
      "Anaphylactic shock\n",
      "Administer an epinephrine auto-injector (EpiPen) immediately. Keep the person lying down with their legs elevated. Monitor their breathing and be ready to perform CPR if necessary.\n",
      "Hemorrhagic shock\n",
      "Lay the patient down and elevate their legs to improve blood flow. Apply pressure to any visible bleeding. Keep them calm and seek emergency medical assistance immediately.\n",
      "Cyanotic (blue) skin\n",
      "Check the patient's airway and breathing. If they are unresponsive, start CPR immediately. Ensure the scene is safe and call for emergency help.\n",
      "Choking in infants\n",
      "Position the infant face down on your forearm and give five gentle back blows between the shoulder blades. If the infant is still choking, turn them over and give five chest thrusts. Seek emergency assistance if needed.\n",
      "Foreign object in the eye\n",
      "Do not rub the eye. Rinse it with clean water or saline solution, holding the eyelid open. If the object does not come out, cover the eye with a clean cloth and seek medical attention.\n",
      "Puncture wound\n",
      "Do not remove the object if it is still embedded in the wound. Apply gentle pressure to stop any bleeding and cover the wound with a sterile dressing. Seek medical attention for proper treatment.\n",
      "Heat exhaustion\n",
      "Move the person to a cooler area and provide them with fluids. Have them lie down and loosen their clothing. Apply cool cloths to their skin and monitor their condition closely.\n",
      "Child with a high fever and rash\n",
      "Keep the child hydrated and comfortable. Monitor the fever and rash closely. Seek medical attention if the rash spreads or if the fever persists.\n",
      "Severe back pain after injury\n",
      "Have the patient remain still and avoid moving. Apply ice to the affected area to reduce swelling. Seek medical help for further evaluation and treatment.\n",
      "Black widow spider bite\n",
      "Keep the patient calm and immobilize the affected area. Apply ice to reduce swelling and pain. Seek medical help immediately for appropriate treatment.\n",
      "Heat cramps\n",
      "Move the person to a cooler place and have them rest. Provide them with water or an electrolyte drink. Gently stretch and massage the affected muscles.\n",
      "Fainting during pregnancy\n",
      "Have the patient lie on their left side to improve blood flow. Loosen tight clothing and provide fresh air. Monitor their condition and seek medical help if symptoms persist.\n",
      "Acid or chemical exposure\n",
      "Remove contaminated clothing and rinse the affected area with copious amounts of water for at least 15 minutes. Seek medical help immediately for further evaluation.\n",
      "Severe nausea\n",
      "Help the patient sit or lie down in a comfortable position. Offer small sips of clear fluids, like water or ginger ale. Seek medical help if nausea persists or worsens.\n",
      "Ruptured eardrum\n",
      "Keep the patient calm and avoid getting water in the ear. Do not insert anything into the ear canal. Seek medical attention for proper diagnosis and treatment.\n",
      "Insect sting with swelling\n",
      "Remove the stinger if visible and clean the area with soap and water. Apply a cold compress to reduce swelling and pain. Monitor for allergic reactions and seek medical help if necessary.\n",
      "Hypotension (low blood pressure)\n",
      "Have the patient lie down with their legs elevated. Keep them calm and monitor their condition. Offer fluids if they are conscious and able to drink.\n",
      "Hyperthermia\n",
      "Move the person to a cooler environment and remove excess clothing. Provide cool drinks and apply wet cloths to the skin. Seek medical attention if symptoms do not improve.\n",
      "Chronic obstructive pulmonary disease (COPD) exacerbation\n",
      "Help the patient sit upright and encourage slow, deep breaths. If they have a prescribed inhaler, assist them in using it. Monitor their condition and seek medical help if breathing does not improve.\n"
     ]
    }
   ],
   "source": [
    "for emergency in data['emergencies']:\n",
    "    emergency_text = emergency['emergency']\n",
    "    print(emergency_text)\n",
    "    next_step = emergency['next_step']\n",
    "    print(next_step)"
   ]
  },
  {
   "cell_type": "code",
   "execution_count": 16,
   "metadata": {},
   "outputs": [
    {
     "data": {
      "text/plain": [
       "{'upserted_count': 52}"
      ]
     },
     "execution_count": 16,
     "metadata": {},
     "output_type": "execute_result"
    }
   ],
   "source": [
    "# Prepare the data for upsert\n",
    "upsert_data = []\n",
    "for emergency in data['emergencies']:\n",
    "    emergency_text = emergency['emergency']\n",
    "    next_step = emergency['next_step']\n",
    "    \n",
    "    # Embed using Pinecone's built-in embedding with the required input_type parameter\n",
    "    embedding_response = pc.inference.embed(\n",
    "        model=\"multilingual-e5-large\",\n",
    "        inputs=[emergency_text],\n",
    "        parameters={\"input_type\": \"passage\"}  # Specify the input type\n",
    "    )\n",
    "    \n",
    "    # Access the embedding directly from the response\n",
    "    vector = embedding_response[0]['values']  # Get the first embedding's values\n",
    "\n",
    "    # Append the data in the required format for upsert\n",
    "    upsert_data.append({\n",
    "        \"id\": emergency_text,  # Using the emergency text as the ID\n",
    "        \"values\": vector,  # Use the embedding values directly\n",
    "        \"metadata\": {\"next_step\": next_step}  # Metadata for the embedding\n",
    "    })\n",
    "\n",
    "# Upsert data into Pinecone\n",
    "index = pc.Index(index_name)\n",
    "index.upsert(vectors=upsert_data)\n",
    "\n",
    "\n"
   ]
  },
  {
   "cell_type": "code",
   "execution_count": 26,
   "metadata": {},
   "outputs": [
    {
     "name": "stdout",
     "output_type": "stream",
     "text": [
      "Next step: Help the patient sit or lie down in a comfortable position. Offer small sips of clear fluids, like water or ginger ale. Seek medical help if nausea persists or worsens.\n"
     ]
    }
   ],
   "source": [
    "def query_emergency(emergency_query):\n",
    "    # Embed the query text using Pinecone's built-in embedding with the required input_type parameter\n",
    "    query_vector = pc.inference.embed(\n",
    "        model=\"multilingual-e5-large\",\n",
    "        inputs=[emergency_query],\n",
    "        parameters={\"input_type\": \"passage\"}  # Specify the input type\n",
    "    )[0]['values']  # Get the embedding\n",
    "\n",
    "    # Query the Pinecone index\n",
    "    result = index.query(\n",
    "        vector=query_vector,\n",
    "        top_k=5,\n",
    "        include_metadata=True\n",
    "    )\n",
    "    return result\n",
    "\n",
    "# Example of querying the database\n",
    "emergency_query = \"Not getting\"\n",
    "response = query_emergency(emergency_query)\n",
    "\n",
    "# Print the next step\n",
    "if response['matches']:\n",
    "    next_step = response['matches'][0]['metadata']['next_step']\n",
    "    print(f\"Next step: {next_step}\")\n",
    "else:\n",
    "    print(\"No matching emergency found.\")\n"
   ]
  }
 ],
 "metadata": {
  "kernelspec": {
   "display_name": "myenv",
   "language": "python",
   "name": "python3"
  },
  "language_info": {
   "codemirror_mode": {
    "name": "ipython",
    "version": 3
   },
   "file_extension": ".py",
   "mimetype": "text/x-python",
   "name": "python",
   "nbconvert_exporter": "python",
   "pygments_lexer": "ipython3",
   "version": "3.11.4"
  }
 },
 "nbformat": 4,
 "nbformat_minor": 2
}
